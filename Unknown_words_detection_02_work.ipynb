{
  "nbformat": 4,
  "nbformat_minor": 0,
  "metadata": {
    "colab": {
      "provenance": [],
      "include_colab_link": true
    },
    "kernelspec": {
      "name": "python3",
      "display_name": "Python 3"
    },
    "language_info": {
      "name": "python"
    },
    "widgets": {
      "application/vnd.jupyter.widget-state+json": {
        "a593f284cc6e42699b77d0868ee8aa08": {
          "model_module": "@jupyter-widgets/controls",
          "model_name": "HBoxModel",
          "model_module_version": "1.5.0",
          "state": {
            "_dom_classes": [],
            "_model_module": "@jupyter-widgets/controls",
            "_model_module_version": "1.5.0",
            "_model_name": "HBoxModel",
            "_view_count": null,
            "_view_module": "@jupyter-widgets/controls",
            "_view_module_version": "1.5.0",
            "_view_name": "HBoxView",
            "box_style": "",
            "children": [
              "IPY_MODEL_66615efc5ff84ff48059bc12a14e7857",
              "IPY_MODEL_52a6c6b125064ab89853efd949b42e8b",
              "IPY_MODEL_b2c1cd9530044a53bd2b5791a1574d38"
            ],
            "layout": "IPY_MODEL_ff4c58e9e7044af3b87d6ee9488a813b"
          }
        },
        "66615efc5ff84ff48059bc12a14e7857": {
          "model_module": "@jupyter-widgets/controls",
          "model_name": "HTMLModel",
          "model_module_version": "1.5.0",
          "state": {
            "_dom_classes": [],
            "_model_module": "@jupyter-widgets/controls",
            "_model_module_version": "1.5.0",
            "_model_name": "HTMLModel",
            "_view_count": null,
            "_view_module": "@jupyter-widgets/controls",
            "_view_module_version": "1.5.0",
            "_view_name": "HTMLView",
            "description": "",
            "description_tooltip": null,
            "layout": "IPY_MODEL_8900d98261724004a6c8bc7d8a5a25e4",
            "placeholder": "​",
            "style": "IPY_MODEL_fb0d6ccb796e4081965f799d4a1d29b8",
            "value": "100%"
          }
        },
        "52a6c6b125064ab89853efd949b42e8b": {
          "model_module": "@jupyter-widgets/controls",
          "model_name": "FloatProgressModel",
          "model_module_version": "1.5.0",
          "state": {
            "_dom_classes": [],
            "_model_module": "@jupyter-widgets/controls",
            "_model_module_version": "1.5.0",
            "_model_name": "FloatProgressModel",
            "_view_count": null,
            "_view_module": "@jupyter-widgets/controls",
            "_view_module_version": "1.5.0",
            "_view_name": "ProgressView",
            "bar_style": "success",
            "description": "",
            "description_tooltip": null,
            "layout": "IPY_MODEL_a6708c5b8e7040be87169eec4c404548",
            "max": 6,
            "min": 0,
            "orientation": "horizontal",
            "style": "IPY_MODEL_54f9c86fb9104a918f5628f33a4543c6",
            "value": 6
          }
        },
        "b2c1cd9530044a53bd2b5791a1574d38": {
          "model_module": "@jupyter-widgets/controls",
          "model_name": "HTMLModel",
          "model_module_version": "1.5.0",
          "state": {
            "_dom_classes": [],
            "_model_module": "@jupyter-widgets/controls",
            "_model_module_version": "1.5.0",
            "_model_name": "HTMLModel",
            "_view_count": null,
            "_view_module": "@jupyter-widgets/controls",
            "_view_module_version": "1.5.0",
            "_view_name": "HTMLView",
            "description": "",
            "description_tooltip": null,
            "layout": "IPY_MODEL_d04425e4091a4e5ba790ef4078144698",
            "placeholder": "​",
            "style": "IPY_MODEL_31b27b053bae40e2aa52dd5426b33c7f",
            "value": " 6/6 [00:00&lt;00:00, 262.05it/s]"
          }
        },
        "ff4c58e9e7044af3b87d6ee9488a813b": {
          "model_module": "@jupyter-widgets/base",
          "model_name": "LayoutModel",
          "model_module_version": "1.2.0",
          "state": {
            "_model_module": "@jupyter-widgets/base",
            "_model_module_version": "1.2.0",
            "_model_name": "LayoutModel",
            "_view_count": null,
            "_view_module": "@jupyter-widgets/base",
            "_view_module_version": "1.2.0",
            "_view_name": "LayoutView",
            "align_content": null,
            "align_items": null,
            "align_self": null,
            "border": null,
            "bottom": null,
            "display": null,
            "flex": null,
            "flex_flow": null,
            "grid_area": null,
            "grid_auto_columns": null,
            "grid_auto_flow": null,
            "grid_auto_rows": null,
            "grid_column": null,
            "grid_gap": null,
            "grid_row": null,
            "grid_template_areas": null,
            "grid_template_columns": null,
            "grid_template_rows": null,
            "height": null,
            "justify_content": null,
            "justify_items": null,
            "left": null,
            "margin": null,
            "max_height": null,
            "max_width": null,
            "min_height": null,
            "min_width": null,
            "object_fit": null,
            "object_position": null,
            "order": null,
            "overflow": null,
            "overflow_x": null,
            "overflow_y": null,
            "padding": null,
            "right": null,
            "top": null,
            "visibility": null,
            "width": null
          }
        },
        "8900d98261724004a6c8bc7d8a5a25e4": {
          "model_module": "@jupyter-widgets/base",
          "model_name": "LayoutModel",
          "model_module_version": "1.2.0",
          "state": {
            "_model_module": "@jupyter-widgets/base",
            "_model_module_version": "1.2.0",
            "_model_name": "LayoutModel",
            "_view_count": null,
            "_view_module": "@jupyter-widgets/base",
            "_view_module_version": "1.2.0",
            "_view_name": "LayoutView",
            "align_content": null,
            "align_items": null,
            "align_self": null,
            "border": null,
            "bottom": null,
            "display": null,
            "flex": null,
            "flex_flow": null,
            "grid_area": null,
            "grid_auto_columns": null,
            "grid_auto_flow": null,
            "grid_auto_rows": null,
            "grid_column": null,
            "grid_gap": null,
            "grid_row": null,
            "grid_template_areas": null,
            "grid_template_columns": null,
            "grid_template_rows": null,
            "height": null,
            "justify_content": null,
            "justify_items": null,
            "left": null,
            "margin": null,
            "max_height": null,
            "max_width": null,
            "min_height": null,
            "min_width": null,
            "object_fit": null,
            "object_position": null,
            "order": null,
            "overflow": null,
            "overflow_x": null,
            "overflow_y": null,
            "padding": null,
            "right": null,
            "top": null,
            "visibility": null,
            "width": null
          }
        },
        "fb0d6ccb796e4081965f799d4a1d29b8": {
          "model_module": "@jupyter-widgets/controls",
          "model_name": "DescriptionStyleModel",
          "model_module_version": "1.5.0",
          "state": {
            "_model_module": "@jupyter-widgets/controls",
            "_model_module_version": "1.5.0",
            "_model_name": "DescriptionStyleModel",
            "_view_count": null,
            "_view_module": "@jupyter-widgets/base",
            "_view_module_version": "1.2.0",
            "_view_name": "StyleView",
            "description_width": ""
          }
        },
        "a6708c5b8e7040be87169eec4c404548": {
          "model_module": "@jupyter-widgets/base",
          "model_name": "LayoutModel",
          "model_module_version": "1.2.0",
          "state": {
            "_model_module": "@jupyter-widgets/base",
            "_model_module_version": "1.2.0",
            "_model_name": "LayoutModel",
            "_view_count": null,
            "_view_module": "@jupyter-widgets/base",
            "_view_module_version": "1.2.0",
            "_view_name": "LayoutView",
            "align_content": null,
            "align_items": null,
            "align_self": null,
            "border": null,
            "bottom": null,
            "display": null,
            "flex": null,
            "flex_flow": null,
            "grid_area": null,
            "grid_auto_columns": null,
            "grid_auto_flow": null,
            "grid_auto_rows": null,
            "grid_column": null,
            "grid_gap": null,
            "grid_row": null,
            "grid_template_areas": null,
            "grid_template_columns": null,
            "grid_template_rows": null,
            "height": null,
            "justify_content": null,
            "justify_items": null,
            "left": null,
            "margin": null,
            "max_height": null,
            "max_width": null,
            "min_height": null,
            "min_width": null,
            "object_fit": null,
            "object_position": null,
            "order": null,
            "overflow": null,
            "overflow_x": null,
            "overflow_y": null,
            "padding": null,
            "right": null,
            "top": null,
            "visibility": null,
            "width": null
          }
        },
        "54f9c86fb9104a918f5628f33a4543c6": {
          "model_module": "@jupyter-widgets/controls",
          "model_name": "ProgressStyleModel",
          "model_module_version": "1.5.0",
          "state": {
            "_model_module": "@jupyter-widgets/controls",
            "_model_module_version": "1.5.0",
            "_model_name": "ProgressStyleModel",
            "_view_count": null,
            "_view_module": "@jupyter-widgets/base",
            "_view_module_version": "1.2.0",
            "_view_name": "StyleView",
            "bar_color": null,
            "description_width": ""
          }
        },
        "d04425e4091a4e5ba790ef4078144698": {
          "model_module": "@jupyter-widgets/base",
          "model_name": "LayoutModel",
          "model_module_version": "1.2.0",
          "state": {
            "_model_module": "@jupyter-widgets/base",
            "_model_module_version": "1.2.0",
            "_model_name": "LayoutModel",
            "_view_count": null,
            "_view_module": "@jupyter-widgets/base",
            "_view_module_version": "1.2.0",
            "_view_name": "LayoutView",
            "align_content": null,
            "align_items": null,
            "align_self": null,
            "border": null,
            "bottom": null,
            "display": null,
            "flex": null,
            "flex_flow": null,
            "grid_area": null,
            "grid_auto_columns": null,
            "grid_auto_flow": null,
            "grid_auto_rows": null,
            "grid_column": null,
            "grid_gap": null,
            "grid_row": null,
            "grid_template_areas": null,
            "grid_template_columns": null,
            "grid_template_rows": null,
            "height": null,
            "justify_content": null,
            "justify_items": null,
            "left": null,
            "margin": null,
            "max_height": null,
            "max_width": null,
            "min_height": null,
            "min_width": null,
            "object_fit": null,
            "object_position": null,
            "order": null,
            "overflow": null,
            "overflow_x": null,
            "overflow_y": null,
            "padding": null,
            "right": null,
            "top": null,
            "visibility": null,
            "width": null
          }
        },
        "31b27b053bae40e2aa52dd5426b33c7f": {
          "model_module": "@jupyter-widgets/controls",
          "model_name": "DescriptionStyleModel",
          "model_module_version": "1.5.0",
          "state": {
            "_model_module": "@jupyter-widgets/controls",
            "_model_module_version": "1.5.0",
            "_model_name": "DescriptionStyleModel",
            "_view_count": null,
            "_view_module": "@jupyter-widgets/base",
            "_view_module_version": "1.2.0",
            "_view_name": "StyleView",
            "description_width": ""
          }
        }
      }
    }
  },
  "cells": [
    {
      "cell_type": "markdown",
      "metadata": {
        "id": "view-in-github",
        "colab_type": "text"
      },
      "source": [
        "<a href=\"https://colab.research.google.com/github/falls247/Colab/blob/main/Unknown_words_detection_02_work.ipynb\" target=\"_parent\"><img src=\"https://colab.research.google.com/assets/colab-badge.svg\" alt=\"Open In Colab\"/></a>"
      ]
    },
    {
      "cell_type": "code",
      "source": [
        "# Google Driveのマウント\n",
        "from google.colab import drive\n",
        "# 強制リマウント\n",
        "drive.mount(\"/content/drive\", force_remount=True)"
      ],
      "metadata": {
        "colab": {
          "base_uri": "https://localhost:8080/"
        },
        "id": "q5YuffzJ5U-v",
        "outputId": "4d5fe2d6-0205-4299-b7cd-6eba6be4f3dc"
      },
      "execution_count": 1,
      "outputs": [
        {
          "output_type": "stream",
          "name": "stdout",
          "text": [
            "Mounted at /content/drive\n"
          ]
        }
      ]
    },
    {
      "cell_type": "code",
      "source": [
        "# ライブラリとモデルのインストール\n",
        "!pip install spacy\n",
        "!pip install transformers\n",
        "!pip install ja_ginza\n",
        "!pip install pytextspan"
      ],
      "metadata": {
        "colab": {
          "base_uri": "https://localhost:8080/"
        },
        "id": "Ri8Cs7rZ3_Kt",
        "outputId": "a26f9e17-07c4-4d46-8e07-d6617cc3d7ed"
      },
      "execution_count": 2,
      "outputs": [
        {
          "output_type": "stream",
          "name": "stdout",
          "text": [
            "Requirement already satisfied: spacy in /usr/local/lib/python3.10/dist-packages (3.6.1)\n",
            "Requirement already satisfied: spacy-legacy<3.1.0,>=3.0.11 in /usr/local/lib/python3.10/dist-packages (from spacy) (3.0.12)\n",
            "Requirement already satisfied: spacy-loggers<2.0.0,>=1.0.0 in /usr/local/lib/python3.10/dist-packages (from spacy) (1.0.5)\n",
            "Requirement already satisfied: murmurhash<1.1.0,>=0.28.0 in /usr/local/lib/python3.10/dist-packages (from spacy) (1.0.10)\n",
            "Requirement already satisfied: cymem<2.1.0,>=2.0.2 in /usr/local/lib/python3.10/dist-packages (from spacy) (2.0.8)\n",
            "Requirement already satisfied: preshed<3.1.0,>=3.0.2 in /usr/local/lib/python3.10/dist-packages (from spacy) (3.0.9)\n",
            "Requirement already satisfied: thinc<8.2.0,>=8.1.8 in /usr/local/lib/python3.10/dist-packages (from spacy) (8.1.12)\n",
            "Requirement already satisfied: wasabi<1.2.0,>=0.9.1 in /usr/local/lib/python3.10/dist-packages (from spacy) (1.1.2)\n",
            "Requirement already satisfied: srsly<3.0.0,>=2.4.3 in /usr/local/lib/python3.10/dist-packages (from spacy) (2.4.8)\n",
            "Requirement already satisfied: catalogue<2.1.0,>=2.0.6 in /usr/local/lib/python3.10/dist-packages (from spacy) (2.0.10)\n",
            "Requirement already satisfied: typer<0.10.0,>=0.3.0 in /usr/local/lib/python3.10/dist-packages (from spacy) (0.9.0)\n",
            "Requirement already satisfied: pathy>=0.10.0 in /usr/local/lib/python3.10/dist-packages (from spacy) (0.10.2)\n",
            "Requirement already satisfied: smart-open<7.0.0,>=5.2.1 in /usr/local/lib/python3.10/dist-packages (from spacy) (6.4.0)\n",
            "Requirement already satisfied: tqdm<5.0.0,>=4.38.0 in /usr/local/lib/python3.10/dist-packages (from spacy) (4.66.1)\n",
            "Requirement already satisfied: numpy>=1.15.0 in /usr/local/lib/python3.10/dist-packages (from spacy) (1.23.5)\n",
            "Requirement already satisfied: requests<3.0.0,>=2.13.0 in /usr/local/lib/python3.10/dist-packages (from spacy) (2.31.0)\n",
            "Requirement already satisfied: pydantic!=1.8,!=1.8.1,<3.0.0,>=1.7.4 in /usr/local/lib/python3.10/dist-packages (from spacy) (1.10.13)\n",
            "Requirement already satisfied: jinja2 in /usr/local/lib/python3.10/dist-packages (from spacy) (3.1.2)\n",
            "Requirement already satisfied: setuptools in /usr/local/lib/python3.10/dist-packages (from spacy) (67.7.2)\n",
            "Requirement already satisfied: packaging>=20.0 in /usr/local/lib/python3.10/dist-packages (from spacy) (23.2)\n",
            "Requirement already satisfied: langcodes<4.0.0,>=3.2.0 in /usr/local/lib/python3.10/dist-packages (from spacy) (3.3.0)\n",
            "Requirement already satisfied: typing-extensions>=4.2.0 in /usr/local/lib/python3.10/dist-packages (from pydantic!=1.8,!=1.8.1,<3.0.0,>=1.7.4->spacy) (4.5.0)\n",
            "Requirement already satisfied: charset-normalizer<4,>=2 in /usr/local/lib/python3.10/dist-packages (from requests<3.0.0,>=2.13.0->spacy) (3.3.0)\n",
            "Requirement already satisfied: idna<4,>=2.5 in /usr/local/lib/python3.10/dist-packages (from requests<3.0.0,>=2.13.0->spacy) (3.4)\n",
            "Requirement already satisfied: urllib3<3,>=1.21.1 in /usr/local/lib/python3.10/dist-packages (from requests<3.0.0,>=2.13.0->spacy) (2.0.6)\n",
            "Requirement already satisfied: certifi>=2017.4.17 in /usr/local/lib/python3.10/dist-packages (from requests<3.0.0,>=2.13.0->spacy) (2023.7.22)\n",
            "Requirement already satisfied: blis<0.8.0,>=0.7.8 in /usr/local/lib/python3.10/dist-packages (from thinc<8.2.0,>=8.1.8->spacy) (0.7.11)\n",
            "Requirement already satisfied: confection<1.0.0,>=0.0.1 in /usr/local/lib/python3.10/dist-packages (from thinc<8.2.0,>=8.1.8->spacy) (0.1.3)\n",
            "Requirement already satisfied: click<9.0.0,>=7.1.1 in /usr/local/lib/python3.10/dist-packages (from typer<0.10.0,>=0.3.0->spacy) (8.1.7)\n",
            "Requirement already satisfied: MarkupSafe>=2.0 in /usr/local/lib/python3.10/dist-packages (from jinja2->spacy) (2.1.3)\n",
            "Collecting transformers\n",
            "  Downloading transformers-4.34.1-py3-none-any.whl (7.7 MB)\n",
            "\u001b[2K     \u001b[90m━━━━━━━━━━━━━━━━━━━━━━━━━━━━━━━━━━━━━━━━\u001b[0m \u001b[32m7.7/7.7 MB\u001b[0m \u001b[31m64.7 MB/s\u001b[0m eta \u001b[36m0:00:00\u001b[0m\n",
            "\u001b[?25hRequirement already satisfied: filelock in /usr/local/lib/python3.10/dist-packages (from transformers) (3.12.4)\n",
            "Collecting huggingface-hub<1.0,>=0.16.4 (from transformers)\n",
            "  Downloading huggingface_hub-0.18.0-py3-none-any.whl (301 kB)\n",
            "\u001b[2K     \u001b[90m━━━━━━━━━━━━━━━━━━━━━━━━━━━━━━━━━━━━━━━━\u001b[0m \u001b[32m302.0/302.0 kB\u001b[0m \u001b[31m34.6 MB/s\u001b[0m eta \u001b[36m0:00:00\u001b[0m\n",
            "\u001b[?25hRequirement already satisfied: numpy>=1.17 in /usr/local/lib/python3.10/dist-packages (from transformers) (1.23.5)\n",
            "Requirement already satisfied: packaging>=20.0 in /usr/local/lib/python3.10/dist-packages (from transformers) (23.2)\n",
            "Requirement already satisfied: pyyaml>=5.1 in /usr/local/lib/python3.10/dist-packages (from transformers) (6.0.1)\n",
            "Requirement already satisfied: regex!=2019.12.17 in /usr/local/lib/python3.10/dist-packages (from transformers) (2023.6.3)\n",
            "Requirement already satisfied: requests in /usr/local/lib/python3.10/dist-packages (from transformers) (2.31.0)\n",
            "Collecting tokenizers<0.15,>=0.14 (from transformers)\n",
            "  Downloading tokenizers-0.14.1-cp310-cp310-manylinux_2_17_x86_64.manylinux2014_x86_64.whl (3.8 MB)\n",
            "\u001b[2K     \u001b[90m━━━━━━━━━━━━━━━━━━━━━━━━━━━━━━━━━━━━━━━━\u001b[0m \u001b[32m3.8/3.8 MB\u001b[0m \u001b[31m125.8 MB/s\u001b[0m eta \u001b[36m0:00:00\u001b[0m\n",
            "\u001b[?25hCollecting safetensors>=0.3.1 (from transformers)\n",
            "  Downloading safetensors-0.4.0-cp310-cp310-manylinux_2_17_x86_64.manylinux2014_x86_64.whl (1.3 MB)\n",
            "\u001b[2K     \u001b[90m━━━━━━━━━━━━━━━━━━━━━━━━━━━━━━━━━━━━━━━━\u001b[0m \u001b[32m1.3/1.3 MB\u001b[0m \u001b[31m91.1 MB/s\u001b[0m eta \u001b[36m0:00:00\u001b[0m\n",
            "\u001b[?25hRequirement already satisfied: tqdm>=4.27 in /usr/local/lib/python3.10/dist-packages (from transformers) (4.66.1)\n",
            "Requirement already satisfied: fsspec>=2023.5.0 in /usr/local/lib/python3.10/dist-packages (from huggingface-hub<1.0,>=0.16.4->transformers) (2023.6.0)\n",
            "Requirement already satisfied: typing-extensions>=3.7.4.3 in /usr/local/lib/python3.10/dist-packages (from huggingface-hub<1.0,>=0.16.4->transformers) (4.5.0)\n",
            "Collecting huggingface-hub<1.0,>=0.16.4 (from transformers)\n",
            "  Downloading huggingface_hub-0.17.3-py3-none-any.whl (295 kB)\n",
            "\u001b[2K     \u001b[90m━━━━━━━━━━━━━━━━━━━━━━━━━━━━━━━━━━━━━━━━\u001b[0m \u001b[32m295.0/295.0 kB\u001b[0m \u001b[31m36.3 MB/s\u001b[0m eta \u001b[36m0:00:00\u001b[0m\n",
            "\u001b[?25hRequirement already satisfied: charset-normalizer<4,>=2 in /usr/local/lib/python3.10/dist-packages (from requests->transformers) (3.3.0)\n",
            "Requirement already satisfied: idna<4,>=2.5 in /usr/local/lib/python3.10/dist-packages (from requests->transformers) (3.4)\n",
            "Requirement already satisfied: urllib3<3,>=1.21.1 in /usr/local/lib/python3.10/dist-packages (from requests->transformers) (2.0.6)\n",
            "Requirement already satisfied: certifi>=2017.4.17 in /usr/local/lib/python3.10/dist-packages (from requests->transformers) (2023.7.22)\n",
            "Installing collected packages: safetensors, huggingface-hub, tokenizers, transformers\n",
            "Successfully installed huggingface-hub-0.17.3 safetensors-0.4.0 tokenizers-0.14.1 transformers-4.34.1\n",
            "Collecting ja_ginza\n",
            "  Downloading ja_ginza-5.1.3-py3-none-any.whl (59.1 MB)\n",
            "\u001b[2K     \u001b[90m━━━━━━━━━━━━━━━━━━━━━━━━━━━━━━━━━━━━━━━━\u001b[0m \u001b[32m59.1/59.1 MB\u001b[0m \u001b[31m12.0 MB/s\u001b[0m eta \u001b[36m0:00:00\u001b[0m\n",
            "\u001b[?25hRequirement already satisfied: spacy<3.7.0,>=3.2.0 in /usr/local/lib/python3.10/dist-packages (from ja_ginza) (3.6.1)\n",
            "Collecting sudachipy<0.7.0,>=0.6.2 (from ja_ginza)\n",
            "  Downloading SudachiPy-0.6.7-cp310-cp310-manylinux_2_17_x86_64.manylinux2014_x86_64.whl (2.2 MB)\n",
            "\u001b[2K     \u001b[90m━━━━━━━━━━━━━━━━━━━━━━━━━━━━━━━━━━━━━━━━\u001b[0m \u001b[32m2.2/2.2 MB\u001b[0m \u001b[31m100.3 MB/s\u001b[0m eta \u001b[36m0:00:00\u001b[0m\n",
            "\u001b[?25hCollecting sudachidict-core>=20210802 (from ja_ginza)\n",
            "  Downloading SudachiDict_core-20230927-py3-none-any.whl (71.7 MB)\n",
            "\u001b[2K     \u001b[90m━━━━━━━━━━━━━━━━━━━━━━━━━━━━━━━━━━━━━━━━\u001b[0m \u001b[32m71.7/71.7 MB\u001b[0m \u001b[31m10.2 MB/s\u001b[0m eta \u001b[36m0:00:00\u001b[0m\n",
            "\u001b[?25hCollecting ginza<5.2.0,>=5.1.0 (from ja_ginza)\n",
            "  Downloading ginza-5.1.3-py3-none-any.whl (20 kB)\n",
            "Collecting plac>=1.3.3 (from ginza<5.2.0,>=5.1.0->ja_ginza)\n",
            "  Downloading plac-1.4.0-py2.py3-none-any.whl (22 kB)\n",
            "Requirement already satisfied: spacy-legacy<3.1.0,>=3.0.11 in /usr/local/lib/python3.10/dist-packages (from spacy<3.7.0,>=3.2.0->ja_ginza) (3.0.12)\n",
            "Requirement already satisfied: spacy-loggers<2.0.0,>=1.0.0 in /usr/local/lib/python3.10/dist-packages (from spacy<3.7.0,>=3.2.0->ja_ginza) (1.0.5)\n",
            "Requirement already satisfied: murmurhash<1.1.0,>=0.28.0 in /usr/local/lib/python3.10/dist-packages (from spacy<3.7.0,>=3.2.0->ja_ginza) (1.0.10)\n",
            "Requirement already satisfied: cymem<2.1.0,>=2.0.2 in /usr/local/lib/python3.10/dist-packages (from spacy<3.7.0,>=3.2.0->ja_ginza) (2.0.8)\n",
            "Requirement already satisfied: preshed<3.1.0,>=3.0.2 in /usr/local/lib/python3.10/dist-packages (from spacy<3.7.0,>=3.2.0->ja_ginza) (3.0.9)\n",
            "Requirement already satisfied: thinc<8.2.0,>=8.1.8 in /usr/local/lib/python3.10/dist-packages (from spacy<3.7.0,>=3.2.0->ja_ginza) (8.1.12)\n",
            "Requirement already satisfied: wasabi<1.2.0,>=0.9.1 in /usr/local/lib/python3.10/dist-packages (from spacy<3.7.0,>=3.2.0->ja_ginza) (1.1.2)\n",
            "Requirement already satisfied: srsly<3.0.0,>=2.4.3 in /usr/local/lib/python3.10/dist-packages (from spacy<3.7.0,>=3.2.0->ja_ginza) (2.4.8)\n",
            "Requirement already satisfied: catalogue<2.1.0,>=2.0.6 in /usr/local/lib/python3.10/dist-packages (from spacy<3.7.0,>=3.2.0->ja_ginza) (2.0.10)\n",
            "Requirement already satisfied: typer<0.10.0,>=0.3.0 in /usr/local/lib/python3.10/dist-packages (from spacy<3.7.0,>=3.2.0->ja_ginza) (0.9.0)\n",
            "Requirement already satisfied: pathy>=0.10.0 in /usr/local/lib/python3.10/dist-packages (from spacy<3.7.0,>=3.2.0->ja_ginza) (0.10.2)\n",
            "Requirement already satisfied: smart-open<7.0.0,>=5.2.1 in /usr/local/lib/python3.10/dist-packages (from spacy<3.7.0,>=3.2.0->ja_ginza) (6.4.0)\n",
            "Requirement already satisfied: tqdm<5.0.0,>=4.38.0 in /usr/local/lib/python3.10/dist-packages (from spacy<3.7.0,>=3.2.0->ja_ginza) (4.66.1)\n",
            "Requirement already satisfied: numpy>=1.15.0 in /usr/local/lib/python3.10/dist-packages (from spacy<3.7.0,>=3.2.0->ja_ginza) (1.23.5)\n",
            "Requirement already satisfied: requests<3.0.0,>=2.13.0 in /usr/local/lib/python3.10/dist-packages (from spacy<3.7.0,>=3.2.0->ja_ginza) (2.31.0)\n",
            "Requirement already satisfied: pydantic!=1.8,!=1.8.1,<3.0.0,>=1.7.4 in /usr/local/lib/python3.10/dist-packages (from spacy<3.7.0,>=3.2.0->ja_ginza) (1.10.13)\n",
            "Requirement already satisfied: jinja2 in /usr/local/lib/python3.10/dist-packages (from spacy<3.7.0,>=3.2.0->ja_ginza) (3.1.2)\n",
            "Requirement already satisfied: setuptools in /usr/local/lib/python3.10/dist-packages (from spacy<3.7.0,>=3.2.0->ja_ginza) (67.7.2)\n",
            "Requirement already satisfied: packaging>=20.0 in /usr/local/lib/python3.10/dist-packages (from spacy<3.7.0,>=3.2.0->ja_ginza) (23.2)\n",
            "Requirement already satisfied: langcodes<4.0.0,>=3.2.0 in /usr/local/lib/python3.10/dist-packages (from spacy<3.7.0,>=3.2.0->ja_ginza) (3.3.0)\n",
            "Requirement already satisfied: typing-extensions>=4.2.0 in /usr/local/lib/python3.10/dist-packages (from pydantic!=1.8,!=1.8.1,<3.0.0,>=1.7.4->spacy<3.7.0,>=3.2.0->ja_ginza) (4.5.0)\n",
            "Requirement already satisfied: charset-normalizer<4,>=2 in /usr/local/lib/python3.10/dist-packages (from requests<3.0.0,>=2.13.0->spacy<3.7.0,>=3.2.0->ja_ginza) (3.3.0)\n",
            "Requirement already satisfied: idna<4,>=2.5 in /usr/local/lib/python3.10/dist-packages (from requests<3.0.0,>=2.13.0->spacy<3.7.0,>=3.2.0->ja_ginza) (3.4)\n",
            "Requirement already satisfied: urllib3<3,>=1.21.1 in /usr/local/lib/python3.10/dist-packages (from requests<3.0.0,>=2.13.0->spacy<3.7.0,>=3.2.0->ja_ginza) (2.0.6)\n",
            "Requirement already satisfied: certifi>=2017.4.17 in /usr/local/lib/python3.10/dist-packages (from requests<3.0.0,>=2.13.0->spacy<3.7.0,>=3.2.0->ja_ginza) (2023.7.22)\n",
            "Requirement already satisfied: blis<0.8.0,>=0.7.8 in /usr/local/lib/python3.10/dist-packages (from thinc<8.2.0,>=8.1.8->spacy<3.7.0,>=3.2.0->ja_ginza) (0.7.11)\n",
            "Requirement already satisfied: confection<1.0.0,>=0.0.1 in /usr/local/lib/python3.10/dist-packages (from thinc<8.2.0,>=8.1.8->spacy<3.7.0,>=3.2.0->ja_ginza) (0.1.3)\n",
            "Requirement already satisfied: click<9.0.0,>=7.1.1 in /usr/local/lib/python3.10/dist-packages (from typer<0.10.0,>=0.3.0->spacy<3.7.0,>=3.2.0->ja_ginza) (8.1.7)\n",
            "Requirement already satisfied: MarkupSafe>=2.0 in /usr/local/lib/python3.10/dist-packages (from jinja2->spacy<3.7.0,>=3.2.0->ja_ginza) (2.1.3)\n",
            "Installing collected packages: sudachipy, plac, sudachidict-core, ginza, ja_ginza\n",
            "Successfully installed ginza-5.1.3 ja_ginza-5.1.3 plac-1.4.0 sudachidict-core-20230927 sudachipy-0.6.7\n",
            "Collecting pytextspan\n",
            "  Downloading pytextspan-0.5.7-cp310-cp310-manylinux_2_17_x86_64.manylinux2014_x86_64.whl (269 kB)\n",
            "\u001b[2K     \u001b[90m━━━━━━━━━━━━━━━━━━━━━━━━━━━━━━━━━━━━━━━━\u001b[0m \u001b[32m269.4/269.4 kB\u001b[0m \u001b[31m6.1 MB/s\u001b[0m eta \u001b[36m0:00:00\u001b[0m\n",
            "\u001b[?25hInstalling collected packages: pytextspan\n",
            "Successfully installed pytextspan-0.5.7\n"
          ]
        }
      ]
    },
    {
      "cell_type": "code",
      "source": [
        "# トークナイザーの保存先を指定\n",
        "tokenizer_file = \"/content/drive/My Drive/Tokenizers/custum_tokenizer.json\""
      ],
      "metadata": {
        "id": "dkQtVDHVIoxm"
      },
      "execution_count": 3,
      "outputs": []
    },
    {
      "cell_type": "code",
      "source": [
        "# SpaCyを使用したngramsのトークンを作成\n",
        "\"\"\"形態素解析後にngrams表現で抽出する為のタスク\"\"\"\n",
        "import spacy\n",
        "from spacy.tokens import Doc\n",
        "\n",
        "n = 1  # ngram数の設定\n",
        "# モデルのロード。形態素解析に不要な機能は無効化しておく（高速化対応）\n",
        "nlp = spacy.load(\"ja_ginza\", disable=[\"ner\", \"tagger\", \"parser\", \"bunsetu_recognizer\", \"morphologizer\", \"compound_splitter\", \"tok2vec\"])\n",
        "\n",
        "# ngramの抽出（Token）\n",
        "def get_ngrams_token(doc, n):\n",
        "    ngrams = []\n",
        "    for i in range(len(doc) - n + 1):\n",
        "        ngram = doc[i:i + n]\n",
        "        ngrams.append(ngram)\n",
        "    return ngrams\n",
        "\n",
        "# ngramの抽出（テキスト）\n",
        "def get_ngrams_str(doc, n):\n",
        "    ngrams = []\n",
        "    for i in range(len(doc) - n + 1):\n",
        "        ngram = doc[i:i + n]\n",
        "        ngram_text = \" \".join([token.text for token in ngram])  # ngramを文字列に変換\n",
        "        ngram_text = ngram_text.replace(\" \",\"\") # 連結後の空白は削除しておく\n",
        "        ngrams.append(ngram_text)\n",
        "    return ngrams\n",
        "\n",
        "# spacyのカスタムコンポーネントにngram抽出を追加\n",
        "Doc.set_extension(\"ngrams_token\", getter=lambda doc: get_ngrams_token(doc, n), force=True)\n",
        "Doc.set_extension(\"ngrams_str\", getter=lambda doc: get_ngrams_str(doc, n), force=True)\n",
        "\n",
        "# spacyを使った形態素解析（戻り値はspanオブジェクト）※検証用\n",
        "def spacy_token(sentence):\n",
        "    doc = nlp(sentence)\n",
        "    return doc._.ngrams_token\n",
        "\n",
        "# spacyを使った形態素解析（戻り値はstr型）\n",
        "def spacy_str(sentence):\n",
        "    doc = nlp(sentence)\n",
        "    return doc._.ngrams_str\n",
        "\n",
        "# n=2以上の時、元文章の表示がおかしくならないようspacyでトークン化後に最初のトークンのみを返す為の関数\n",
        "def spacy_nlp(sentence):\n",
        "    doc = nlp(sentence)\n",
        "    words = [word.text for word in doc]\n",
        "    return words[0]\n"
      ],
      "metadata": {
        "id": "MJjB9zrUHWeH"
      },
      "execution_count": 4,
      "outputs": []
    },
    {
      "cell_type": "code",
      "source": [
        "# カスタムトークナイザーを使用する為の準備\n",
        "import textspan\n",
        "from typing import List, Optional\n",
        "from tokenizers import NormalizedString, PreTokenizedString, Tokenizer\n",
        "from tokenizers.pre_tokenizers import BertPreTokenizer, PreTokenizer\n",
        "\n",
        "# 検出用のトークナイザー\n",
        "class WorkPreTokenizer:\n",
        "\n",
        "    def tokenize(self, sequence: str) -> List[str]:\n",
        "      return spacy_str(sequence)\n",
        "\n",
        "    def custom_split(\n",
        "        self, i: int, normalized_string: NormalizedString\n",
        "    ) -> List[NormalizedString]:\n",
        "        \"\"\"See. https://github.com/huggingface/tokenizers/blob/b24a2fc/bindings/python/examples/custom_components.py\"\"\"\n",
        "        text = str(normalized_string)\n",
        "        tokens = self.tokenize(text)\n",
        "        tokens_spans = textspan.get_original_spans(tokens, text)\n",
        "        return [\n",
        "            normalized_string[st:ed]\n",
        "            for char_spans in tokens_spans\n",
        "            for st, ed in char_spans\n",
        "        ]\n",
        "\n",
        "    def pre_tokenize(self, pretok: PreTokenizedString):\n",
        "        pretok.split(self.custom_split)\n",
        "\n",
        "\n",
        "def load_custom_tokenizer(tokenizer_file: str) -> Tokenizer:\n",
        "    \"\"\"Tokenizerのロード処理：tokenizer.json からTokenizerをロードし、custome PreTokenizerをセットする。\"\"\"\n",
        "    tok = Tokenizer.from_file(tokenizer_file)\n",
        "    # ダミー注入したRustベースのPreTokenizerを、custom PreTokenizerで上書き。\n",
        "    tok.pre_tokenizer = PreTokenizer.custom(WorkPreTokenizer())\n",
        "    return tok\n"
      ],
      "metadata": {
        "id": "VINwAaAvFPc-"
      },
      "execution_count": 5,
      "outputs": []
    },
    {
      "cell_type": "code",
      "source": [
        "# 検証テキストの格納\n",
        "text = \"\"\"\n",
        "\n",
        "誤変換や誤字を見つけてくれるかのテスト。\n",
        "ウザギはウサギの間違いです。\n",
        "\n",
        "\"\"\""
      ],
      "metadata": {
        "id": "4zXqhShCZtD6"
      },
      "execution_count": 46,
      "outputs": []
    },
    {
      "cell_type": "code",
      "source": [
        "# 誤字、誤変換の検出タスク\n",
        "from tqdm.auto import tqdm\n",
        "import re\n",
        "\n",
        "# tokオブジェクトの生成\n",
        "tok = load_custom_tokenizer(tokenizer_file)\n",
        "tok = Tokenizer.from_file(tokenizer_file)\n",
        "tok.pre_tokenizer = PreTokenizer.custom(WorkPreTokenizer())\n",
        "\n",
        "# エスケープシーケンスの辞書を作る\n",
        "color_dic = {'red_bg':'\\033[41m', 'white_text':'\\033[37m', 'reset_bg':'\\033[49m', 'reset_text':'\\033[0m'}\n",
        "\n",
        "# 変数初期化\n",
        "prep = [] # 検証テキスト格納用\n",
        "temp = [] # トークナイズ後の語彙確認用\n",
        "word_pos = [] # [UNK]がHITした位置格納\n",
        "unk_list = [] # [UNK]がHITした文字列格納\n",
        "row_no = 0 # 行番号\n",
        "r = 0 # リスト内文字列特定用\n",
        "\n",
        "# 検証テキストをリストに格納\n",
        "for line in text.split(\"\\n\"):\n",
        "  # スペースはトークン化できないので削除しながら格納していく\n",
        "  prep.append(re.sub(r\"\\s+\", \"\", line))\n",
        "\n",
        "# リストから一行ずつトークナイザーにかけてtempに格納\n",
        "for line in tqdm(prep):\n",
        "  line = re.sub(r'^\\s*', '', line)\n",
        "  temp = tok.encode(line).tokens\n",
        "  if temp:\n",
        "    i = 0\n",
        "\n",
        "    # [UNK]があったら位置を格納\n",
        "    for word in temp:\n",
        "      if word == \"[UNK]\":\n",
        "        word_pos.append(i)\n",
        "      i += 1\n",
        "\n",
        "    if word_pos:\n",
        "      # リストが空でなければ形態素解析した結果をtempに格納\n",
        "      temp = spacy_str(line)\n",
        "      for r in range(len(temp)-1):\n",
        "        if r in word_pos:\n",
        "          unk_list.append(temp[r]) # UNK判定のリストに追加\n",
        "          temp[r] = color_dic['red_bg'] + color_dic['white_text'] + spacy_nlp(temp[r]) + color_dic['reset_bg'] + color_dic['reset_text']\n",
        "        else:\n",
        "          temp[r] = spacy_nlp(temp[r])\n",
        "      line = ''.join(temp).replace(\"\\n\",\"\")\n",
        "      word_pos = []\n",
        "\n",
        "    # 結果の出力\n",
        "    print(f\"{row_no:06d}:{line}\")\n",
        "\n",
        "    row_no += 1 # 行番号加算\n",
        "\n",
        "\n",
        "# UNKになった語彙のリストを集合に変換して重複を除去する\n",
        "unk_list = list(set(unk_list))\n",
        "\n",
        "print(f\"検出数　　：{len(unk_list)}\")\n",
        "print(f\"検出文字列：{unk_list}\")"
      ],
      "metadata": {
        "id": "Ohwy51NRPO-S",
        "colab": {
          "base_uri": "https://localhost:8080/",
          "height": 118,
          "referenced_widgets": [
            "a593f284cc6e42699b77d0868ee8aa08",
            "66615efc5ff84ff48059bc12a14e7857",
            "52a6c6b125064ab89853efd949b42e8b",
            "b2c1cd9530044a53bd2b5791a1574d38",
            "ff4c58e9e7044af3b87d6ee9488a813b",
            "8900d98261724004a6c8bc7d8a5a25e4",
            "fb0d6ccb796e4081965f799d4a1d29b8",
            "a6708c5b8e7040be87169eec4c404548",
            "54f9c86fb9104a918f5628f33a4543c6",
            "d04425e4091a4e5ba790ef4078144698",
            "31b27b053bae40e2aa52dd5426b33c7f"
          ]
        },
        "outputId": "4c592eb4-4d64-4efa-94e2-0ec34521683a"
      },
      "execution_count": 47,
      "outputs": [
        {
          "output_type": "display_data",
          "data": {
            "text/plain": [
              "  0%|          | 0/6 [00:00<?, ?it/s]"
            ],
            "application/vnd.jupyter.widget-view+json": {
              "version_major": 2,
              "version_minor": 0,
              "model_id": "a593f284cc6e42699b77d0868ee8aa08"
            }
          },
          "metadata": {}
        },
        {
          "output_type": "stream",
          "name": "stdout",
          "text": [
            "000000:誤変換や誤字を見つけてくれるかのテスト。\n",
            "000001:\u001b[41m\u001b[37mウザギ\u001b[49m\u001b[0mはウサギの間違いです。\n",
            "検出数　　：1\n",
            "検出文字列：['ウザギ']\n"
          ]
        }
      ]
    },
    {
      "cell_type": "code",
      "source": [
        "# コーパスによって最初は誤検出が多くなる為、未知語リストにある言葉をトークナイザ用JSONファイルに追記する\n",
        "\"\"\"正しく未知語と検出されたものまでJSONファイルに反映すべきではないので、対象外とする（正しく検出できた）文字列を入力する\"\"\"\n",
        "\n",
        "# 未知語リストをグローバル変数として定義\n",
        "global unk_list\n",
        "\n",
        "# 誤検出ではなかった文字を入力（何もない場合はそのままENTER）\n",
        "print(\"検出して正解の文字列（誤字、誤変換）\")\n",
        "target = input()\n",
        "\n",
        "# 未知語リストから削除\n",
        "if target in unk_list:\n",
        "    unk_list.remove(target)\n",
        "\n",
        "# 結果を表示\n",
        "print(f\"正しい語彙として登録する数　　：{len(unk_list)}\")\n",
        "print(f\"正しい語彙として登録する文字列：{unk_list}\")\n"
      ],
      "metadata": {
        "colab": {
          "base_uri": "https://localhost:8080/"
        },
        "id": "YDCzRl35-GUH",
        "outputId": "703a035d-737a-4533-d9ff-4d0e0fccffc9"
      },
      "execution_count": 48,
      "outputs": [
        {
          "output_type": "stream",
          "name": "stdout",
          "text": [
            "検出して正解の文字列（誤字、誤変換）\n",
            "\n",
            "正しい語彙として登録する数　　：1\n",
            "正しい語彙として登録する文字列：['ウザギ']\n"
          ]
        }
      ]
    },
    {
      "cell_type": "code",
      "source": [
        "# 未知語リストをトークナイズに使用する語彙として登録するタスク\n",
        "\n",
        "# ベースとなるjsonファイルを読み込む\n",
        "import json\n",
        "with open(tokenizer_file, \"r\") as f:\n",
        "  data = json.load(f)\n",
        "\n",
        "# jsonファイルのvocabに単語を追記する\n",
        "vocab = data[\"model\"][\"vocab\"]\n",
        "index = max(vocab.values()) + 1 # vocabの最大のインデックスに1を足した値を取得する\n",
        "for word in unk_list:\n",
        "  vocab[word] = index # 単語に新しいインデックスを割り当てる\n",
        "  index += 1 # インデックスを更新する\n",
        "\n",
        "# トークン化用の新しいjsonファイルとして保存する\n",
        "with open(tokenizer_file, \"w\") as f:\n",
        "  json.dump(data, f, ensure_ascii=False, indent=2)\n"
      ],
      "metadata": {
        "id": "4vi5qWtE2Jdc"
      },
      "execution_count": 52,
      "outputs": []
    },
    {
      "cell_type": "code",
      "source": [
        "# 間違って登録してしまった語彙を削除するタスク\n",
        "\n",
        "# ベースとなるjsonファイルを読み込む\n",
        "import json\n",
        "with open(tokenizer_file, \"r\") as f:\n",
        "  data = json.load(f)\n",
        "\n",
        "# jsonファイルのvocabから単語を削除する\n",
        "vocab = data[\"model\"][\"vocab\"]\n",
        "keyword = input(\"削除したいキーワードを入力してください: \") # インプットボックスからキーワードを受け取る\n",
        "if keyword in vocab: # vocabにキーワードがあるかチェックする\n",
        "  index = vocab[keyword] # キーワードのインデックスを取得する\n",
        "  del vocab[keyword] # vocabからキーワードを削除する\n",
        "  for word in vocab: # vocabの残りの単語について\n",
        "    if vocab[word] > index: # キーワードより後ろのインデックスを持つ単語について\n",
        "      vocab[word] -= 1 # インデックスを1減らす\n",
        "  print(f\"「{keyword}」を削除しました。\") # 削除したことを出力する\n",
        "else: # vocabにキーワードがない場合\n",
        "  print(f\"「{keyword}」は登録されていません。\") # 登録されていないことを出力する\n",
        "\n",
        "# トークン化用の新しいjsonファイルとして保存する\n",
        "with open(tokenizer_file, \"w\") as f:\n",
        "  json.dump(data, f, ensure_ascii=False, indent=2)\n"
      ],
      "metadata": {
        "colab": {
          "base_uri": "https://localhost:8080/"
        },
        "id": "f6lxcYmnzyDS",
        "outputId": "5a3961da-f1a9-4412-cb9b-fb11532aac8c"
      },
      "execution_count": 53,
      "outputs": [
        {
          "output_type": "stream",
          "name": "stdout",
          "text": [
            "削除したいキーワードを入力してください: ウザギ\n",
            "「ウザギ」を削除しました。\n"
          ]
        }
      ]
    }
  ]
}